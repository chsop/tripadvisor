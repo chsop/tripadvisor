{
 "cells": [
  {
   "cell_type": "markdown",
   "metadata": {},
   "source": [
    "**Tripadvisor 국내 투어 프로그램 리뷰 데이터 분석**"
   ]
  },
  {
   "cell_type": "markdown",
   "metadata": {},
   "source": [
    "# 'Seoul Private Flexible Adventure Tour' 1페이지 리뷰 크롤링"
   ]
  },
  {
   "cell_type": "code",
   "execution_count": 417,
   "metadata": {},
   "outputs": [],
   "source": [
    "import pandas as pd\n",
    "from selenium import webdriver\n",
    "from bs4 import BeautifulSoup\n",
    "import time"
   ]
  },
  {
   "cell_type": "code",
   "execution_count": 418,
   "metadata": {},
   "outputs": [],
   "source": [
    "driver = webdriver.Chrome('./chromedriver.exe')"
   ]
  },
  {
   "cell_type": "code",
   "execution_count": 419,
   "metadata": {},
   "outputs": [],
   "source": [
    "def tour_search(program):\n",
    "    url = f'https://www.tripadvisor.com/AttractionProductReview-g294197-d12521956-{program}-Seoul.html'\n",
    "    return url"
   ]
  },
  {
   "cell_type": "code",
   "execution_count": 420,
   "metadata": {},
   "outputs": [],
   "source": [
    "program = 'Seoul Private Flexible Adventure Tour'\n",
    "url = tour_search(program)\n",
    "driver.get(url)\n",
    "driver.implicitly_wait(3)"
   ]
  },
  {
   "cell_type": "code",
   "execution_count": 421,
   "metadata": {},
   "outputs": [],
   "source": [
    "def open_reviews(driver):\n",
    "    # 1) 현재 페이지 html 정보 가져오기\n",
    "    html = driver.page_source\n",
    "    soup = BeautifulSoup(html, 'lxml')\n",
    "    review_pg1 = soup.select_one('[data-automation = \"reviewList\"]')\n",
    "    \n",
    "    # 2) Read more 클릭하기\n",
    "    driver.find_element_by_xpath(\"//div[@data-automation='reviewReadMoreCTA_0']\").click()\n",
    "    driver.find_element_by_xpath(\"//div[@data-automation='reviewReadMoreCTA_1']\").click()\n",
    "    driver.find_element_by_xpath(\"//div[@data-automation='reviewReadMoreCTA_2']\").click()\n",
    "    driver.find_element_by_xpath(\"//div[@data-automation='reviewReadMoreCTA_3']\").click()\n",
    "    driver.find_element_by_xpath(\"//div[@data-automation='reviewReadMoreCTA_4']\").click()\n",
    "    \n",
    "    results = driver.page_source\n",
    "    \n",
    "    return results\n",
    "\n",
    "def get_reviews(driver):\n",
    "    # 3) 본문 내용 가져오기\n",
    "    results = open_reviews(driver)\n",
    "    soup = BeautifulSoup(results, 'lxml')\n",
    "    review_pg1_open = soup.select_one('[data-automation = \"reviewList\"]')\n",
    "    \n",
    "    result_pg1 = []\n",
    "    for review in review_pg1_open: \n",
    "        tour_title = soup.select('span.IKwHbf8J')[0].text\n",
    "        review_title = review.select('a._1xr4qUQI > span')[0].text\n",
    "        review_comment = review.select('q._2vmgOjMl > span')[0].text\n",
    "        result = [tour_title, review_title, review_comment]\n",
    "        result_pg1.append(result)\n",
    "\n",
    "    return result_pg1"
   ]
  },
  {
   "cell_type": "code",
   "execution_count": 422,
   "metadata": {},
   "outputs": [
    {
     "data": {
      "text/plain": [
       "[['Seoul Private Flexible Adventure Tour',\n",
       "  'Best Tour Guide in Korea!',\n",
       "  'My family and I travelled in Korea this Winter season (January 2020). I inquired with Albert way back in August 2019. He was very helpful in providing advise about the best spots to enjoy our winter visit. We had a lot of communication in terms of the number of days and the fees but he was still very accommodating. Our assigned tour guide was Matt Cho. He is the BEST!!!! It was only two days but had fun like it was a week. He surprised me when he brought us to the filming locations of BTS and Goblin just because he found out I was a fan. That was not part of our itinerary but he included it. We also got a lot of discounts because of him. Very good in English and very informative! HIGHLY RECOMMEND!!!! Please book Matt Cho! ⭐️⭐️⭐️⭐️⭐️'],\n",
       " ['Seoul Private Flexible Adventure Tour',\n",
       "  'Perfect Trip!',\n",
       "  'We planned a private tour just days before our scheduled trip and luckily, we found this agency and we immediately booked New Year’s Eve as our private trip. It was a perfect trip, everything happened so smoothly and we were able to visit more places than we had planned. Huge thanks to Mr. Matt Cho, our tour guide, who took care of us from the moment he picked us up at the hotel until he dropped us off. He brought us to places we requested though not in the itinerary. He told so many trivia and stories about Korea that really amazed us. He took really good pictures and sent it right away. And he even suggested really good food as well. I highly recommend Mr. Matt as a tour guide. Thank you This is Korea for a wonderful and memorable trip! We will surely remember this agency.- Esther and Company'],\n",
       " ['Seoul Private Flexible Adventure Tour',\n",
       "  'Thank you note to our tour guide , Mr Don Lee.',\n",
       "  'My fanily n I would like thank Mr Don Lee for his great service for past 5 days for our private tour to Nami Island plus Seoul. Cant thank Mr Don Lee enough for being so attentive n patient to my mum who needs to use wheelchair as well as to my not-so-obedient son 😅😅N best part is, he s also a licensed ski instructor n my 9yo son is able to \"ski-ing\" within less than an hr lesson with Mr Don Lee. Even after tour ends, when I contacted him to get him to talk to taxi driver on how to go certain places , he s more than happy to help. Would highly recommend Mr Don Lee if anyone would like to explore Seoul, Nami island n Jeju Island. Thank you Mr Don Lee for the great service n help n make our Seoul holiday a memorable one. Thank you again.'],\n",
       " ['Seoul Private Flexible Adventure Tour',\n",
       "  'Good, but slightly below expectations',\n",
       "  'I guess our expectations were slightly hyped by the \"#1 Korea Private Tour Agency\" advertisement. The guide was always on time and very friendly. However, we were provided with not much historical information and interesting facts during the tour - our guide didn\\'t seem to be interested/passionate about such information. Also, some of the jokes from the guide were a bit sloppy and may be considered offensive by some people. Overall, we enjoyed our time, but we hope the agency can take into account this review to improve for future clients.'],\n",
       " ['Seoul Private Flexible Adventure Tour',\n",
       "  'Tour guide ok but not great.',\n",
       "  \"Our guide was raised in the US (Alabama to be precise), but still had quite an accent.  He did seem to know quite a bit of history and knowledge of the sites - got the most from visiting the smaller of the two palaces (saving the big one for the free Saturday on our own).  We weren't able to move as fast as I would have liked, but that was my wife's fault - she was recovering from spinal fractures.  Drove around most of the inner city.  Saw the War Museum which is really cool and had lunch at a typical BBQ. Biggest disappointment was the Hanok Village where the guide just dropped us off to explore on our own since he wasn't allowed to park.  They really should have provided a driver separate from the guide.  I'd ask about that before booking.\"]]"
      ]
     },
     "execution_count": 422,
     "metadata": {},
     "output_type": "execute_result"
    }
   ],
   "source": [
    "result_pg1 = get_reviews(driver)\n",
    "result_pg1"
   ]
  },
  {
   "cell_type": "code",
   "execution_count": 423,
   "metadata": {
    "scrolled": true
   },
   "outputs": [
    {
     "data": {
      "text/html": [
       "<div>\n",
       "<style scoped>\n",
       "    .dataframe tbody tr th:only-of-type {\n",
       "        vertical-align: middle;\n",
       "    }\n",
       "\n",
       "    .dataframe tbody tr th {\n",
       "        vertical-align: top;\n",
       "    }\n",
       "\n",
       "    .dataframe thead tr th {\n",
       "        text-align: left;\n",
       "    }\n",
       "</style>\n",
       "<table border=\"1\" class=\"dataframe\">\n",
       "  <thead>\n",
       "    <tr>\n",
       "      <th></th>\n",
       "      <th>tour_title</th>\n",
       "      <th>review_title</th>\n",
       "      <th>review_comment</th>\n",
       "    </tr>\n",
       "  </thead>\n",
       "  <tbody>\n",
       "    <tr>\n",
       "      <th>0</th>\n",
       "      <td>Seoul Private Flexible Adventure Tour</td>\n",
       "      <td>Best Tour Guide in Korea!</td>\n",
       "      <td>My family and I travelled in Korea this Winter...</td>\n",
       "    </tr>\n",
       "    <tr>\n",
       "      <th>1</th>\n",
       "      <td>Seoul Private Flexible Adventure Tour</td>\n",
       "      <td>Perfect Trip!</td>\n",
       "      <td>We planned a private tour just days before our...</td>\n",
       "    </tr>\n",
       "    <tr>\n",
       "      <th>2</th>\n",
       "      <td>Seoul Private Flexible Adventure Tour</td>\n",
       "      <td>Thank you note to our tour guide , Mr Don Lee.</td>\n",
       "      <td>My fanily n I would like thank Mr Don Lee for ...</td>\n",
       "    </tr>\n",
       "    <tr>\n",
       "      <th>3</th>\n",
       "      <td>Seoul Private Flexible Adventure Tour</td>\n",
       "      <td>Good, but slightly below expectations</td>\n",
       "      <td>I guess our expectations were slightly hyped b...</td>\n",
       "    </tr>\n",
       "    <tr>\n",
       "      <th>4</th>\n",
       "      <td>Seoul Private Flexible Adventure Tour</td>\n",
       "      <td>Tour guide ok but not great.</td>\n",
       "      <td>Our guide was raised in the US (Alabama to be ...</td>\n",
       "    </tr>\n",
       "  </tbody>\n",
       "</table>\n",
       "</div>"
      ],
      "text/plain": [
       "                              tour_title  \\\n",
       "0  Seoul Private Flexible Adventure Tour   \n",
       "1  Seoul Private Flexible Adventure Tour   \n",
       "2  Seoul Private Flexible Adventure Tour   \n",
       "3  Seoul Private Flexible Adventure Tour   \n",
       "4  Seoul Private Flexible Adventure Tour   \n",
       "\n",
       "                                     review_title  \\\n",
       "0                       Best Tour Guide in Korea!   \n",
       "1                                   Perfect Trip!   \n",
       "2  Thank you note to our tour guide , Mr Don Lee.   \n",
       "3           Good, but slightly below expectations   \n",
       "4                    Tour guide ok but not great.   \n",
       "\n",
       "                                      review_comment  \n",
       "0  My family and I travelled in Korea this Winter...  \n",
       "1  We planned a private tour just days before our...  \n",
       "2  My fanily n I would like thank Mr Don Lee for ...  \n",
       "3  I guess our expectations were slightly hyped b...  \n",
       "4  Our guide was raised in the US (Alabama to be ...  "
      ]
     },
     "execution_count": 423,
     "metadata": {},
     "output_type": "execute_result"
    }
   ],
   "source": [
    "# 엑셀 파일로 저장하기\n",
    "df = pd.DataFrame(result_pg1)\n",
    "df.columns = [['tour_title', 'review_title', 'review_comment']]\n",
    "df"
   ]
  },
  {
   "cell_type": "code",
   "execution_count": 416,
   "metadata": {},
   "outputs": [],
   "source": [
    "df.to_excel('review_pg1.xlsx')"
   ]
  },
  {
   "cell_type": "markdown",
   "metadata": {},
   "source": [
    "**향후 과제**\n",
    "- 리뷰 페이지 넘어가면서 정보 수집\n",
    "- csv파일로 저장시 오류나지 않는 방법 확인하기"
   ]
  }
 ],
 "metadata": {
  "kernelspec": {
   "display_name": "Python 3",
   "language": "python",
   "name": "python3"
  },
  "language_info": {
   "codemirror_mode": {
    "name": "ipython",
    "version": 3
   },
   "file_extension": ".py",
   "mimetype": "text/x-python",
   "name": "python",
   "nbconvert_exporter": "python",
   "pygments_lexer": "ipython3",
   "version": "3.8.5"
  },
  "toc": {
   "base_numbering": 1,
   "nav_menu": {},
   "number_sections": true,
   "sideBar": true,
   "skip_h1_title": false,
   "title_cell": "Table of Contents",
   "title_sidebar": "Contents",
   "toc_cell": false,
   "toc_position": {},
   "toc_section_display": true,
   "toc_window_display": false
  }
 },
 "nbformat": 4,
 "nbformat_minor": 4
}
