{
 "cells": [
  {
   "cell_type": "markdown",
   "metadata": {},
   "source": [
    "**Tripadvisor 국내 투어 프로그램 리뷰 데이터 분석을 통한 랜선투어 상품 개발**\n",
    "- 목적 : Tours & Tickets 메뉴에 등록된 국내 투어 프로그램 리뷰 데이터를 분석하여 오프라인 경험을 최대한 살릴 수 있는 랜선투어 상품 개발\n",
    "- 단계 :<br>\n",
    "1) 리뷰수, 평균평점을 기준으로 Top N 인기 프로그램 선정<br>\n",
    "2) 선정 프로그램의 리뷰 데이터 크롤링<br>\n",
    "3) 리뷰 내용을 평점별로 구분하여 분석 (높은 평점 vs 낮은 평점)<br>\n",
    "4) 분석 내용을 기반으로 국내 랜선투어 프로그램 개발"
   ]
  },
  {
   "cell_type": "code",
   "execution_count": 1,
   "metadata": {},
   "outputs": [],
   "source": [
    "import pandas as pd\n",
    "from selenium import webdriver\n",
    "from bs4 import BeautifulSoup\n",
    "import time"
   ]
  },
  {
   "cell_type": "code",
   "execution_count": 2,
   "metadata": {},
   "outputs": [],
   "source": [
    "driver = webdriver.Chrome('./chromedriver.exe')"
   ]
  },
  {
   "cell_type": "code",
   "execution_count": 3,
   "metadata": {},
   "outputs": [],
   "source": [
    "def tour_search(program):\n",
    "    url = f'https://www.tripadvisor.com/AttractionProductReview-g294197-d12521956-{program}-Seoul.html'\n",
    "    return url"
   ]
  },
  {
   "cell_type": "code",
   "execution_count": 4,
   "metadata": {},
   "outputs": [],
   "source": [
    "program = 'Seoul Private Flexible Adventure Tour'\n",
    "url = tour_search(program)\n",
    "driver.get(url)\n",
    "driver.implicitly_wait(10)"
   ]
  },
  {
   "cell_type": "code",
   "execution_count": 5,
   "metadata": {},
   "outputs": [],
   "source": [
    "def get_reviews(driver):\n",
    "    # 1) Read more 클릭한 페이지 html정보 가져오기\n",
    "    try:\n",
    "        driver.find_element_by_xpath(\"//div[@data-automation='reviewReadMoreCTA_0']\").click()\n",
    "        driver.find_element_by_xpath(\"//div[@data-automation='reviewReadMoreCTA_1']\").click()\n",
    "        driver.find_element_by_xpath(\"//div[@data-automation='reviewReadMoreCTA_2']\").click()\n",
    "        driver.find_element_by_xpath(\"//div[@data-automation='reviewReadMoreCTA_3']\").click()\n",
    "        driver.find_element_by_xpath(\"//div[@data-automation='reviewReadMoreCTA_4']\").click()\n",
    "        time.sleep(3)\n",
    "        \n",
    "    except:\n",
    "        pass\n",
    "    \n",
    "    results = driver.page_source\n",
    "\n",
    "    # 2) 본문 내용 가져오기\n",
    "    soup = BeautifulSoup(results, 'lxml')\n",
    "    review_pg1_open = soup.select_one('[data-automation = \"reviewList\"]')\n",
    "    \n",
    "    result_pg = []\n",
    "    \n",
    "    for review in review_pg1_open: \n",
    "        tour_title = soup.select('span.IKwHbf8J')[0].text\n",
    "        review_title = review.select('a._1xr4qUQI > span')[0].text\n",
    "        review_comment = review.select('q._2vmgOjMl > span')[0].text\n",
    "        result = [tour_title, review_title, review_comment]\n",
    "        result_pg.append(result)\n",
    "    \n",
    "    df = pd.DataFrame(result_pg)\n",
    "    df.columns = [['tour_title', 'review_title', 'review_comment']]\n",
    "    \n",
    "    return df\n",
    "\n",
    "def next_reviews(driver):\n",
    "\n",
    "    result_all_pg = pd.DataFrame()\n",
    "    \n",
    "    for page in range(0,2):\n",
    "        pg_review =get_reviews(driver)\n",
    "        time.sleep(5)\n",
    "        result_all_pg = pd.concat([result_all_pg, pg_review], axis = 0)\n",
    "\n",
    "        try:\n",
    "            driver.find_element_by_xpath(\"//a[@data-automation='pageLink_next']\").click()\n",
    "            time.sleep(3)\n",
    "            page += 1\n",
    "            \n",
    "        except:\n",
    "            pass\n",
    "            \n",
    "    return result_all_pg"
   ]
  },
  {
   "cell_type": "code",
   "execution_count": 6,
   "metadata": {
    "scrolled": false
   },
   "outputs": [
    {
     "data": {
      "text/html": [
       "<div>\n",
       "<style scoped>\n",
       "    .dataframe tbody tr th:only-of-type {\n",
       "        vertical-align: middle;\n",
       "    }\n",
       "\n",
       "    .dataframe tbody tr th {\n",
       "        vertical-align: top;\n",
       "    }\n",
       "\n",
       "    .dataframe thead tr th {\n",
       "        text-align: left;\n",
       "    }\n",
       "</style>\n",
       "<table border=\"1\" class=\"dataframe\">\n",
       "  <thead>\n",
       "    <tr>\n",
       "      <th></th>\n",
       "      <th>tour_title</th>\n",
       "      <th>review_title</th>\n",
       "      <th>review_comment</th>\n",
       "    </tr>\n",
       "  </thead>\n",
       "  <tbody>\n",
       "    <tr>\n",
       "      <th>0</th>\n",
       "      <td>Seoul Private Flexible Adventure Tour</td>\n",
       "      <td>Best Tour Guide in Korea!</td>\n",
       "      <td>My family and I travelled in Korea this Winter...</td>\n",
       "    </tr>\n",
       "    <tr>\n",
       "      <th>1</th>\n",
       "      <td>Seoul Private Flexible Adventure Tour</td>\n",
       "      <td>Perfect Trip!</td>\n",
       "      <td>We planned a private tour just days before our...</td>\n",
       "    </tr>\n",
       "    <tr>\n",
       "      <th>2</th>\n",
       "      <td>Seoul Private Flexible Adventure Tour</td>\n",
       "      <td>Thank you note to our tour guide , Mr Don Lee.</td>\n",
       "      <td>My fanily n I would like thank Mr Don Lee for ...</td>\n",
       "    </tr>\n",
       "    <tr>\n",
       "      <th>3</th>\n",
       "      <td>Seoul Private Flexible Adventure Tour</td>\n",
       "      <td>Good, but slightly below expectations</td>\n",
       "      <td>I guess our expectations were slightly hyped b...</td>\n",
       "    </tr>\n",
       "    <tr>\n",
       "      <th>4</th>\n",
       "      <td>Seoul Private Flexible Adventure Tour</td>\n",
       "      <td>Tour guide ok but not great.</td>\n",
       "      <td>Our guide was raised in the US (Alabama to be ...</td>\n",
       "    </tr>\n",
       "    <tr>\n",
       "      <th>0</th>\n",
       "      <td>Seoul Private Flexible Adventure Tour</td>\n",
       "      <td>2 day guide</td>\n",
       "      <td>My wife and I visited Korea for the first time...</td>\n",
       "    </tr>\n",
       "    <tr>\n",
       "      <th>1</th>\n",
       "      <td>Seoul Private Flexible Adventure Tour</td>\n",
       "      <td>One of the best tours ever</td>\n",
       "      <td>Our tour guide, Don, was just wonderful. My fr...</td>\n",
       "    </tr>\n",
       "    <tr>\n",
       "      <th>2</th>\n",
       "      <td>Seoul Private Flexible Adventure Tour</td>\n",
       "      <td>Had an amazing stay in South Korea.</td>\n",
       "      <td>You forget stress when traveling. Sometimes we...</td>\n",
       "    </tr>\n",
       "    <tr>\n",
       "      <th>3</th>\n",
       "      <td>Seoul Private Flexible Adventure Tour</td>\n",
       "      <td>Great tour</td>\n",
       "      <td>We had a great 2 day tour. It was our first tr...</td>\n",
       "    </tr>\n",
       "    <tr>\n",
       "      <th>4</th>\n",
       "      <td>Seoul Private Flexible Adventure Tour</td>\n",
       "      <td>A great trip !</td>\n",
       "      <td>A very entertaining and valuable English-speak...</td>\n",
       "    </tr>\n",
       "  </tbody>\n",
       "</table>\n",
       "</div>"
      ],
      "text/plain": [
       "                              tour_title  \\\n",
       "0  Seoul Private Flexible Adventure Tour   \n",
       "1  Seoul Private Flexible Adventure Tour   \n",
       "2  Seoul Private Flexible Adventure Tour   \n",
       "3  Seoul Private Flexible Adventure Tour   \n",
       "4  Seoul Private Flexible Adventure Tour   \n",
       "0  Seoul Private Flexible Adventure Tour   \n",
       "1  Seoul Private Flexible Adventure Tour   \n",
       "2  Seoul Private Flexible Adventure Tour   \n",
       "3  Seoul Private Flexible Adventure Tour   \n",
       "4  Seoul Private Flexible Adventure Tour   \n",
       "\n",
       "                                     review_title  \\\n",
       "0                       Best Tour Guide in Korea!   \n",
       "1                                   Perfect Trip!   \n",
       "2  Thank you note to our tour guide , Mr Don Lee.   \n",
       "3           Good, but slightly below expectations   \n",
       "4                    Tour guide ok but not great.   \n",
       "0                                     2 day guide   \n",
       "1                      One of the best tours ever   \n",
       "2             Had an amazing stay in South Korea.   \n",
       "3                                      Great tour   \n",
       "4                                  A great trip !   \n",
       "\n",
       "                                      review_comment  \n",
       "0  My family and I travelled in Korea this Winter...  \n",
       "1  We planned a private tour just days before our...  \n",
       "2  My fanily n I would like thank Mr Don Lee for ...  \n",
       "3  I guess our expectations were slightly hyped b...  \n",
       "4  Our guide was raised in the US (Alabama to be ...  \n",
       "0  My wife and I visited Korea for the first time...  \n",
       "1  Our tour guide, Don, was just wonderful. My fr...  \n",
       "2  You forget stress when traveling. Sometimes we...  \n",
       "3  We had a great 2 day tour. It was our first tr...  \n",
       "4  A very entertaining and valuable English-speak...  "
      ]
     },
     "execution_count": 6,
     "metadata": {},
     "output_type": "execute_result"
    }
   ],
   "source": [
    "reviews = next_reviews(driver)\n",
    "reviews"
   ]
  },
  {
   "cell_type": "code",
   "execution_count": 7,
   "metadata": {},
   "outputs": [],
   "source": [
    "reviews.to_excel('review_pg2.xlsx')"
   ]
  },
  {
   "cell_type": "markdown",
   "metadata": {},
   "source": [
    "**향후 과제**\n",
    "- 1페이지 리뷰만 잘리는 문제 해결\n",
    "- csv파일로 저장시 오류나지 않는 방법 확인하기"
   ]
  }
 ],
 "metadata": {
  "kernelspec": {
   "display_name": "Python 3",
   "language": "python",
   "name": "python3"
  },
  "language_info": {
   "codemirror_mode": {
    "name": "ipython",
    "version": 3
   },
   "file_extension": ".py",
   "mimetype": "text/x-python",
   "name": "python",
   "nbconvert_exporter": "python",
   "pygments_lexer": "ipython3",
   "version": "3.8.5"
  },
  "toc": {
   "base_numbering": 1,
   "nav_menu": {},
   "number_sections": true,
   "sideBar": true,
   "skip_h1_title": false,
   "title_cell": "Table of Contents",
   "title_sidebar": "Contents",
   "toc_cell": false,
   "toc_position": {},
   "toc_section_display": true,
   "toc_window_display": false
  }
 },
 "nbformat": 4,
 "nbformat_minor": 4
}
